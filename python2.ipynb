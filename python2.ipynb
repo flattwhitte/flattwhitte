{
  "nbformat": 4,
  "nbformat_minor": 0,
  "metadata": {
    "colab": {
      "provenance": [],
      "collapsed_sections": [],
      "authorship_tag": "ABX9TyNicLNTzUagUK7oTRARgD9q",
      "include_colab_link": true
    },
    "kernelspec": {
      "name": "python3",
      "display_name": "Python 3"
    },
    "language_info": {
      "name": "python"
    },
    "accelerator": "GPU"
  },
  "cells": [
    {
      "cell_type": "markdown",
      "metadata": {
        "id": "view-in-github",
        "colab_type": "text"
      },
      "source": [
        "<a href=\"https://colab.research.google.com/github/flattwhitte/flattwhitte/blob/main/python2.ipynb\" target=\"_parent\"><img src=\"https://colab.research.google.com/assets/colab-badge.svg\" alt=\"Open In Colab\"/></a>"
      ]
    },
    {
      "cell_type": "code",
      "source": [
        "\n",
        "num = int(input('자연수 한 개를 입력하세요 : '))\n",
        "\n",
        "arr = []\n",
        "for _ in range(100):\n",
        "\tnum = int(input())\n",
        "\tif num== 0:\n",
        "\t\tbreak\n",
        "\tarr.append(num)"
      ],
      "metadata": {
        "colab": {
          "base_uri": "https://localhost:8080/"
        },
        "id": "UE13gu-cVii-",
        "outputId": "0190f333-87a7-424b-8a59-ad274c73c245"
      },
      "execution_count": null,
      "outputs": [
        {
          "name": "stdout",
          "output_type": "stream",
          "text": [
            "자연수 한 개를 입력하세요 : 3\n",
            "21\n",
            "12\n",
            "5\n",
            "6\n",
            "48\n",
            "0\n"
          ]
        }
      ]
    },
    {
      "cell_type": "code",
      "source": [
        "num = int(input('숫자를 입력하세요 : '))\n",
        "\n",
        "i = 0\n",
        "\n",
        "if i <= 30:\n",
        "\n",
        "\n",
        "  while i < num :\n",
        "     j = 1\n",
        "     while j <= i:\n",
        "          print(\"*\", end = \" \")\n",
        "          j += 1\n",
        "\n",
        "     print(j)\n",
        "     i += 1\n",
        "\n",
        "if i > 30:\n",
        "  print(\"너무 많습니다.\")"
      ],
      "metadata": {
        "id": "Rr1zDoLbEE0r",
        "colab": {
          "base_uri": "https://localhost:8080/"
        },
        "outputId": "ab07fbcf-b587-4b1a-d91d-876477024296"
      },
      "execution_count": null,
      "outputs": [
        {
          "output_type": "stream",
          "name": "stdout",
          "text": [
            "숫자를 입력하세요 : 32\n",
            "1\n",
            "* 2\n",
            "* * 3\n",
            "* * * 4\n",
            "* * * * 5\n",
            "* * * * * 6\n",
            "* * * * * * 7\n",
            "* * * * * * * 8\n",
            "* * * * * * * * 9\n",
            "* * * * * * * * * 10\n",
            "* * * * * * * * * * 11\n",
            "* * * * * * * * * * * 12\n",
            "* * * * * * * * * * * * 13\n",
            "* * * * * * * * * * * * * 14\n",
            "* * * * * * * * * * * * * * 15\n",
            "* * * * * * * * * * * * * * * 16\n",
            "* * * * * * * * * * * * * * * * 17\n",
            "* * * * * * * * * * * * * * * * * 18\n",
            "* * * * * * * * * * * * * * * * * * 19\n",
            "* * * * * * * * * * * * * * * * * * * 20\n",
            "* * * * * * * * * * * * * * * * * * * * 21\n",
            "* * * * * * * * * * * * * * * * * * * * * 22\n",
            "* * * * * * * * * * * * * * * * * * * * * * 23\n",
            "* * * * * * * * * * * * * * * * * * * * * * * 24\n",
            "* * * * * * * * * * * * * * * * * * * * * * * * 25\n",
            "* * * * * * * * * * * * * * * * * * * * * * * * * 26\n",
            "* * * * * * * * * * * * * * * * * * * * * * * * * * 27\n",
            "* * * * * * * * * * * * * * * * * * * * * * * * * * * 28\n",
            "* * * * * * * * * * * * * * * * * * * * * * * * * * * * 29\n",
            "* * * * * * * * * * * * * * * * * * * * * * * * * * * * * 30\n",
            "* * * * * * * * * * * * * * * * * * * * * * * * * * * * * * 31\n",
            "* * * * * * * * * * * * * * * * * * * * * * * * * * * * * * * 32\n",
            "너무 많습니다.\n"
          ]
        }
      ]
    },
    {
      "cell_type": "code",
      "source": [
        "num = int(input('Enter number of rows : '))\n",
        "i = 1\n",
        "while i <= num :\n",
        "    j = 1\n",
        "    while j <= i:\n",
        "        print(j, end = \" \")\n",
        "        j += 1\n",
        "    print()\n",
        "    i += 1"
      ],
      "metadata": {
        "colab": {
          "base_uri": "https://localhost:8080/"
        },
        "id": "qThFO0XkZ8gY",
        "outputId": "c7149f24-a505-4d43-834e-2ee2ec516bd8"
      },
      "execution_count": null,
      "outputs": [
        {
          "output_type": "stream",
          "name": "stdout",
          "text": [
            "Enter number of rows : 6\n",
            "1 \n",
            "1 2 \n",
            "1 2 3 \n",
            "1 2 3 4 \n",
            "1 2 3 4 5 \n",
            "1 2 3 4 5 6 \n"
          ]
        }
      ]
    }
  ]
}